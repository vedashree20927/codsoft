{
  "nbformat": 4,
  "nbformat_minor": 0,
  "metadata": {
    "colab": {
      "provenance": [],
      "authorship_tag": "ABX9TyPAiBy6A/F8COYMe020nN66",
      "include_colab_link": true
    },
    "kernelspec": {
      "name": "python3",
      "display_name": "Python 3"
    },
    "language_info": {
      "name": "python"
    }
  },
  "cells": [
    {
      "cell_type": "markdown",
      "metadata": {
        "id": "view-in-github",
        "colab_type": "text"
      },
      "source": [
        "<a href=\"https://colab.research.google.com/github/vedashree20927/codsoft/blob/main/Untitled6.ipynb\" target=\"_parent\"><img src=\"https://colab.research.google.com/assets/colab-badge.svg\" alt=\"Open In Colab\"/></a>"
      ]
    },
    {
      "cell_type": "code",
      "execution_count": null,
      "metadata": {
        "id": "FFKeYhzI0gh_"
      },
      "outputs": [],
      "source": [
        "\n",
        "import re\n",
        "import random\n",
        "class RuleBot:\n",
        "    ### Potential Negative Responses\n",
        "    negative_responses = (\"no\", \"nope\", \"naw\", \"sorry\", \"not a chance\", \"nah\")\n",
        "    ### Exit conversation keywords\n",
        "    exit_commands = (\"quit\", \"pause\", \"exit\", \"goodbye\", \"bye\", \"later\")\n",
        "    ### Random starter questions\n",
        "    random_questions = (\n",
        "        \"why are you here?\",\n",
        "        \"are there many humans like you?\",\n",
        "        \"what do you consume for sustenance?\",\n",
        "        \"is there intelligent life on this planet?\",\n",
        "        \"does earth have a leader?\",\n",
        "        \"what planet have you visited?\",\n",
        "        \"what technology do you have on this planet?\",\n",
        "    )\n",
        "    def __init__(self):\n",
        "        self.alienbabble = {\n",
        "            'describe_planet_intent': r'.*\\s*your planet.*',\n",
        "            'answer_why_intent': r'why\\sare.*',\n",
        "            'about_intellipat': r'.*\\s*intellipaat.*'\n",
        "        }\n",
        "    def greet(self):\n",
        "        self.name = input(\"What is your name?\\n\")\n",
        "        will_help = input(f\"Hi {self.name}, I am a Rule-Bot. Will you help me learn about your planet?\\n\")\n",
        "        if will_help.lower() in self.negative_responses:\n",
        "            print(\"Okay. Have a nice Earth day!\")\n",
        "            return\n",
        "        self.chat()\n",
        "    def make_exit(self, reply):\n",
        "        for command in self.exit_commands:\n",
        "            if reply == command:\n",
        "                print(\"Okay. Have a nice Earth day!\")\n",
        "                return True\n",
        "        return False\n",
        "    def chat(self):\n",
        "        reply = input(random.choice(self.random_questions)).lower()\n",
        "        while not self.make_exit(reply):\n",
        "            reply = input(self.match_reply(reply))\n",
        "    def match_reply(self, reply):\n",
        "        for key, value in self.alienbabble.items():\n",
        "            intent = key\n",
        "            regex_pattern = value\n",
        "            found_match = re.match(regex_pattern, reply)\n",
        "            if found_match:\n",
        "                if intent == 'describe_planet_intent':\n",
        "                    return self.describe_planet_intent()\n",
        "                elif intent == 'answer_why_intent':\n",
        "                    return self.answer_why_intent()\n",
        "                elif intent == 'about_intellipat':\n",
        "                    return self.about_intellipat()\n",
        "        return self.no_match_intent()\n",
        "    def describe_planet_intent(self):\n",
        "        responses = (\n",
        "            \"My planet is a utopia of diverse organisms and species.\\n\"\n",
        "            \"I am from the Opidipus, the capital of wayward galaxies.\\n\"\n",
        "        )\n",
        "        return random.choice(responses)\n",
        "    def answer_why_intent(self):\n",
        "        responses = (\n",
        "            \"I come in peace.\\n\",\n",
        "            \"I am here to collect data from your planet and its inhabitants.\\n\"\n",
        "            \"I heard the coffee is good.\\n\"\n",
        "        )\n",
        "        return random.choice(responses)\n",
        "    def about_intellipat(self):\n",
        "        responses = (\n",
        "            \"Intellipat is the world's largest professional educational company.\\n\",\n",
        "            \"Intellipat will help you learn concepts in a very good way.\\n\",\n",
        "            \"Intellipat is where your career and skills grow.\\n\"\n",
        "        )\n",
        "        return random.choice(responses)\n",
        "    def no_match_intent(self):\n",
        "        responses = (\n",
        "            \"Please tell me more.\\n\", \"Tell me more.\\n\", \"Why do you say that?\\n\",\n",
        "            \"I see. Can you elaborate?\\n\", \"Interesting. Can you tell me more?\\n\",\n",
        "            \"I see. How do you think?\\n\", \"Why?\\n\", \"How do you think I feel when you say that?\\n\"\n",
        "        )\n",
        "        return random.choice(responses)\n",
        "# Instantiate and start the bot\n",
        "AlienBot = RuleBot()\n",
        "AlienBot.greet()"
      ]
    }
  ]
}