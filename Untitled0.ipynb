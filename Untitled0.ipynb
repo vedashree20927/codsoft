{
  "nbformat": 4,
  "nbformat_minor": 0,
  "metadata": {
    "colab": {
      "provenance": [],
      "authorship_tag": "ABX9TyPmdSWqHPVR9cMcutjb9gvH",
      "include_colab_link": true
    },
    "kernelspec": {
      "name": "python3",
      "display_name": "Python 3"
    },
    "language_info": {
      "name": "python"
    }
  },
  "cells": [
    {
      "cell_type": "markdown",
      "metadata": {
        "id": "view-in-github",
        "colab_type": "text"
      },
      "source": [
        "<a href=\"https://colab.research.google.com/github/vedashree20927/codsoft/blob/main/Untitled0.ipynb\" target=\"_parent\"><img src=\"https://colab.research.google.com/assets/colab-badge.svg\" alt=\"Open In Colab\"/></a>"
      ]
    },
    {
      "cell_type": "code",
      "execution_count": null,
      "metadata": {
        "colab": {
          "base_uri": "https://localhost:8080/",
          "height": 383
        },
        "id": "tQRxxPiIDw-a",
        "outputId": "bd56604b-0fbd-4cbc-fd03-47fd364bbcf8"
      },
      "outputs": [
        {
          "output_type": "error",
          "ename": "ModuleNotFoundError",
          "evalue": "No module named 'face_recognition'",
          "traceback": [
            "\u001b[0;31m---------------------------------------------------------------------------\u001b[0m",
            "\u001b[0;31mModuleNotFoundError\u001b[0m                       Traceback (most recent call last)",
            "\u001b[0;32m<ipython-input-1-915e11aff4b9>\u001b[0m in \u001b[0;36m<cell line: 2>\u001b[0;34m()\u001b[0m\n\u001b[1;32m      1\u001b[0m \u001b[0;32mimport\u001b[0m \u001b[0mcv2\u001b[0m\u001b[0;34m\u001b[0m\u001b[0;34m\u001b[0m\u001b[0m\n\u001b[0;32m----> 2\u001b[0;31m \u001b[0;32mimport\u001b[0m \u001b[0mface_recognition\u001b[0m\u001b[0;34m\u001b[0m\u001b[0;34m\u001b[0m\u001b[0m\n\u001b[0m\u001b[1;32m      3\u001b[0m \u001b[0;32mimport\u001b[0m \u001b[0mnumpy\u001b[0m \u001b[0;32mas\u001b[0m \u001b[0mnp\u001b[0m\u001b[0;34m\u001b[0m\u001b[0;34m\u001b[0m\u001b[0m\n\u001b[1;32m      4\u001b[0m \u001b[0;34m\u001b[0m\u001b[0m\n\u001b[1;32m      5\u001b[0m \u001b[0;31m# Load a pre-trained face detection model (Haar cascades)\u001b[0m\u001b[0;34m\u001b[0m\u001b[0;34m\u001b[0m\u001b[0m\n",
            "\u001b[0;31mModuleNotFoundError\u001b[0m: No module named 'face_recognition'",
            "",
            "\u001b[0;31m---------------------------------------------------------------------------\u001b[0;32m\nNOTE: If your import is failing due to a missing package, you can\nmanually install dependencies using either !pip or !apt.\n\nTo view examples of installing some common dependencies, click the\n\"Open Examples\" button below.\n\u001b[0;31m---------------------------------------------------------------------------\u001b[0m\n"
          ],
          "errorDetails": {
            "actions": [
              {
                "action": "open_url",
                "actionText": "Open Examples",
                "url": "/notebooks/snippets/importing_libraries.ipynb"
              }
            ]
          }
        }
      ],
      "source": [
        "import cv2\n",
        "import face_recognition\n",
        "import numpy as np\n",
        "\n",
        "# Load a pre-trained face detection model (Haar cascades)\n",
        "face_cascade = cv2.CascadeClassifier(cv2.data.haarcascades + \"haarcascade_frontalface_default.xml\")\n",
        "\n",
        "# Function to detect faces in an image\n",
        "def detect_faces(image):\n",
        "    try:\n",
        "        # Convert image to grayscale for Haar cascades\n",
        "        gray = cv2.cvtColor(image, cv2.COLOR_BGR2GRAY)\n",
        "        faces = face_cascade.detectMultiScale(gray, scaleFactor=1.1, minNeighbors=5, minSize=(30, 30))\n",
        "        return faces\n",
        "    except Exception as e:\n",
        "        print(f\"Error in detect_faces: {e}\")\n",
        "        return []\n",
        "\n",
        "# Load known faces and their embeddings\n",
        "def load_known_faces():\n",
        "    known_face_encodings = []\n",
        "    known_face_names = []\n",
        "\n",
        "    try:\n",
        "        # Add images of known individuals (example)\n",
        "        alice_image = face_recognition.load_image_file(\"alice.jpg\")\n",
        "        alice_encoding = face_recognition.face_encodings(alice_image)[0]\n",
        "        known_face_encodings.append(alice_encoding)\n",
        "        known_face_names.append(\"Alice\")\n",
        "\n",
        "        bob_image = face_recognition.load_image_file(\"bob.jpg\")\n",
        "        bob_encoding = face_recognition.face_encodings(bob_image)[0]\n",
        "        known_face_encodings.append(bob_encoding)\n",
        "        known_face_names.append(\"Bob\")\n",
        "    except IndexError:\n",
        "        print(\"Error: Unable to encode a face from the provided image.\")\n",
        "    except FileNotFoundError as e:\n",
        "        print(f\"Error: {e}\")\n",
        "    except Exception as e:\n",
        "        print(f\"Error in load_known_faces: {e}\")\n",
        "\n",
        "    return known_face_encodings, known_face_names\n",
        "\n",
        "# Recognize faces in an image\n",
        "def recognize_faces(image, known_face_encodings, known_face_names):\n",
        "    recognized_faces = []\n",
        "    try:\n",
        "        face_locations = face_recognition.face_locations(image)\n",
        "        face_encodings = face_recognition.face_encodings(image, face_locations)\n",
        "\n",
        "        for (top, right, bottom, left), face_encoding in zip(face_locations, face_encodings):\n",
        "            matches = face_recognition.compare_faces(known_face_encodings, face_encoding)\n",
        "            face_distances = face_recognition.face_distance(known_face_encodings, face_encoding)\n",
        "\n",
        "            # Identify best match\n",
        "            best_match_index = np.argmin(face_distances) if any(matches) else None\n",
        "            name = known_face_names[best_match_index] if best_match_index is not None else \"Unknown\"\n",
        "\n",
        "            recognized_faces.append({\"name\": name, \"box\": (top, right, bottom, left)})\n",
        "    except Exception as e:\n",
        "        print(f\"Error in recognize_faces: {e}\")\n",
        "\n",
        "    return recognized_faces\n",
        "\n",
        "# Main function to detect and recognize faces in a video stream\n",
        "def main():\n",
        "    # Load known faces\n",
        "    known_face_encodings, known_face_names = load_known_faces()\n",
        "\n",
        "    # Check if face encodings are loaded\n",
        "    if not known_face_encodings:\n",
        "        print(\"No known faces loaded. Exiting.\")\n",
        "        return\n",
        "\n",
        "    # Initialize video capture\n",
        "    video_capture = cv2.VideoCapture(0)\n",
        "\n",
        "    if not video_capture.isOpened():\n",
        "        print(\"Error: Unable to access the camera.\")\n",
        "        return\n",
        "\n",
        "    print(\"Press 'q' to quit the video stream.\")\n",
        "\n",
        "    while True:\n",
        "        ret, frame = video_capture.read()\n",
        "        if not ret:\n",
        "            print(\"Error: Unable to read from the camera.\")\n",
        "            break\n",
        "\n",
        "        # Detect faces\n",
        "        faces = detect_faces(frame)\n",
        "\n",
        "        # Draw rectangles around detected faces\n",
        "        for (x, y, w, h) in faces:\n",
        "            cv2.rectangle(frame, (x, y), (x + w, y + h), (255, 0, 0), 2)\n",
        "\n",
        "        # Recognize faces\n",
        "        recognized_faces = recognize_faces(frame, known_face_encodings, known_face_names)\n",
        "        for face in recognized_faces:\n",
        "            top, right, bottom, left = face[\"box\"]\n",
        "            name = face[\"name\"]\n",
        "\n",
        "            # Draw a label with the name below the face\n",
        "            cv2.rectangle(frame, (left, top), (right, bottom), (0, 255, 0), 2)\n",
        "            cv2.putText(frame, name, (left, bottom + 20), cv2.FONT_HERSHEY_SIMPLEX, 0.5, (0, 255, 0), 1)\n",
        "\n",
        "        # Display the resulting frame\n",
        "        cv2.imshow(\"Video\", frame)\n",
        "\n",
        "        # Break the loop on 'q' key press\n",
        "        if cv2.waitKey(1) & 0xFF == ord(\"q\"):\n",
        "            break\n",
        "\n",
        "    # Release the video capture and close windows\n",
        "    video_capture.release()\n",
        "    cv2.destroyAllWindows()\n",
        "\n",
        "if __name__ == \"__main__\":\n",
        "    main()\n"
      ]
    }
  ]
}